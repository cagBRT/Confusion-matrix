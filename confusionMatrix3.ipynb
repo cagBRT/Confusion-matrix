{
  "nbformat": 4,
  "nbformat_minor": 0,
  "metadata": {
    "colab": {
      "name": "confusionMatrix3.ipynb",
      "provenance": [],
      "private_outputs": true,
      "authorship_tag": "ABX9TyN+1JqHsfVurbO3AZXgXz/R",
      "include_colab_link": true
    },
    "kernelspec": {
      "name": "python3",
      "display_name": "Python 3"
    }
  },
  "cells": [
    {
      "cell_type": "markdown",
      "metadata": {
        "id": "view-in-github",
        "colab_type": "text"
      },
      "source": [
        "<a href=\"https://colab.research.google.com/github/cagBRT/Confusion-matrix/blob/master/confusionMatrix3.ipynb\" target=\"_parent\"><img src=\"https://colab.research.google.com/assets/colab-badge.svg\" alt=\"Open In Colab\"/></a>"
      ]
    },
    {
      "cell_type": "markdown",
      "metadata": {
        "id": "i2Rzs7y-8xFM",
        "colab_type": "text"
      },
      "source": [
        "# **Calculating the Confusion Matrix with the SkLearn Library**"
      ]
    },
    {
      "cell_type": "code",
      "metadata": {
        "id": "FK1Qk1WH9Fya",
        "colab_type": "code",
        "colab": {}
      },
      "source": [
        "from sklearn.model_selection import train_test_split\n",
        "from sklearn.svm import SVC\n",
        "from sklearn.metrics import confusion_matrix\n",
        "#importing accuracy_score, precision_score, recall_score, f1_score\n",
        "from sklearn.metrics import accuracy_score, precision_score, recall_score, f1_score\n",
        "from sklearn.metrics import classification_report"
      ],
      "execution_count": null,
      "outputs": []
    },
    {
      "cell_type": "markdown",
      "metadata": {
        "id": "MKrsxpY785OR",
        "colab_type": "text"
      },
      "source": [
        "**Get and prepare the data**"
      ]
    },
    {
      "cell_type": "markdown",
      "metadata": {
        "id": "uU4dA_ZS_nWp",
        "colab_type": "text"
      },
      "source": [
        "**Wine Recognition Data Set Characteristics**:<br>\n",
        "\n",
        "*Number of Instances*: 178 (50 in each of three classes)<br>\n",
        "\n",
        "*Number of Attributes*: 13 numeric, predictive attributes and the class<br>\n",
        "\n",
        ">Attributes: <br>\n",
        "Alcohol<br>\n",
        "Malic acid<br>\n",
        "Ash<br>\n",
        "Alcalinity of ash<br>\n",
        "Magnesium<br>\n",
        "Total phenols<br>\n",
        "Flavanoids<br>\n",
        "Nonflavanoid phenols<br>\n",
        "Proanthocyanins<br>\n",
        "Color intensity<br>\n",
        "Hue<br>\n",
        "OD280/OD315 of diluted wines<br>\n",
        "Proline<br>"
      ]
    },
    {
      "cell_type": "code",
      "metadata": {
        "id": "4vYZc2T884iA",
        "colab_type": "code",
        "colab": {}
      },
      "source": [
        "#importing a 3-class dataset from sklearn's toy dataset\n",
        "from sklearn.datasets import load_wine"
      ],
      "execution_count": null,
      "outputs": []
    },
    {
      "cell_type": "code",
      "metadata": {
        "id": "AMyJ2g8s9IYD",
        "colab_type": "code",
        "colab": {}
      },
      "source": [
        "dataset = load_wine()\n",
        "X = dataset.data\n",
        "y = dataset.target\n",
        "X_train, X_test, y_train, y_test = train_test_split(X, y, random_state=0)"
      ],
      "execution_count": null,
      "outputs": []
    },
    {
      "cell_type": "code",
      "metadata": {
        "id": "Pi_-S4Em-mD8",
        "colab_type": "code",
        "colab": {}
      },
      "source": [
        "print(\"Training set shape is \",X_train.shape)\n",
        "print(\"Test set shape is \",X_test.shape)"
      ],
      "execution_count": null,
      "outputs": []
    },
    {
      "cell_type": "markdown",
      "metadata": {
        "id": "Bq_6-Pth-UOA",
        "colab_type": "text"
      },
      "source": [
        "**Create, train, and predict a Support Vector Model**"
      ]
    },
    {
      "cell_type": "code",
      "metadata": {
        "id": "OguKmAdj9LU7",
        "colab_type": "code",
        "colab": {}
      },
      "source": [
        "svc = SVC(kernel='rbf', C=1).fit(X_train, y_train)\n",
        "y_pred = svc.predict(X_test)"
      ],
      "execution_count": null,
      "outputs": []
    },
    {
      "cell_type": "markdown",
      "metadata": {
        "id": "7huDNRcv9Vvg",
        "colab_type": "text"
      },
      "source": [
        "**Determine the Confusion Matrix**"
      ]
    },
    {
      "cell_type": "code",
      "metadata": {
        "id": "PodmpdOo9VCn",
        "colab_type": "code",
        "colab": {}
      },
      "source": [
        "confusion = confusion_matrix(y_test, y_pred)\n",
        "print('Confusion Matrix\\n')\n",
        "print(confusion)"
      ],
      "execution_count": null,
      "outputs": []
    },
    {
      "cell_type": "markdown",
      "metadata": {
        "id": "haqvQOmT9jLJ",
        "colab_type": "text"
      },
      "source": [
        "**Print the accuracy**"
      ]
    },
    {
      "cell_type": "code",
      "metadata": {
        "id": "GmikTAGT9nTg",
        "colab_type": "code",
        "colab": {}
      },
      "source": [
        "print('\\nAccuracy: {:.2f}\\n'.format(accuracy_score(y_test, y_pred)))"
      ],
      "execution_count": null,
      "outputs": []
    },
    {
      "cell_type": "markdown",
      "metadata": {
        "id": "ijHkMp8s9r68",
        "colab_type": "text"
      },
      "source": [
        "**Micro Values**"
      ]
    },
    {
      "cell_type": "code",
      "metadata": {
        "id": "sgdwuaJd9sDJ",
        "colab_type": "code",
        "colab": {}
      },
      "source": [
        "print('Micro Precision: {:.2f}'.format(precision_score(y_test, y_pred, average='micro')))\n",
        "print('Micro Recall: {:.2f}'.format(recall_score(y_test, y_pred, average='micro')))\n",
        "print('Micro F1-score: {:.2f}\\n'.format(f1_score(y_test, y_pred, average='micro')))"
      ],
      "execution_count": null,
      "outputs": []
    },
    {
      "cell_type": "markdown",
      "metadata": {
        "id": "M48134ut904T",
        "colab_type": "text"
      },
      "source": [
        "**Macro Values**"
      ]
    },
    {
      "cell_type": "code",
      "metadata": {
        "id": "yVXsZONM94cu",
        "colab_type": "code",
        "colab": {}
      },
      "source": [
        "print('Macro Precision: {:.2f}'.format(precision_score(y_test, y_pred, average='macro')))\n",
        "print('Macro Recall: {:.2f}'.format(recall_score(y_test, y_pred, average='macro')))\n",
        "print('Macro F1-score: {:.2f}\\n'.format(f1_score(y_test, y_pred, average='macro')))"
      ],
      "execution_count": null,
      "outputs": []
    },
    {
      "cell_type": "markdown",
      "metadata": {
        "id": "NmeIRtLG95wl",
        "colab_type": "text"
      },
      "source": [
        "**Weighted Precision Values**"
      ]
    },
    {
      "cell_type": "code",
      "metadata": {
        "id": "X_TBF-uH9-9o",
        "colab_type": "code",
        "colab": {}
      },
      "source": [
        "print('Weighted Precision: {:.2f}'.format(precision_score(y_test, y_pred, average='weighted')))\n",
        "print('Weighted Recall: {:.2f}'.format(recall_score(y_test, y_pred, average='weighted')))\n",
        "print('Weighted F1-score: {:.2f}'.format(f1_score(y_test, y_pred, average='weighted')))"
      ],
      "execution_count": null,
      "outputs": []
    },
    {
      "cell_type": "markdown",
      "metadata": {
        "id": "YZTpEL-G-FON",
        "colab_type": "text"
      },
      "source": [
        "**The Classification Report**"
      ]
    },
    {
      "cell_type": "code",
      "metadata": {
        "id": "eTDISBIu8rWC",
        "colab_type": "code",
        "colab": {}
      },
      "source": [
        "print('\\nClassification Report\\n')\n",
        "print(classification_report(y_test, y_pred, target_names=['Class 1', 'Class 2', 'Class 3']))"
      ],
      "execution_count": null,
      "outputs": []
    }
  ]
}