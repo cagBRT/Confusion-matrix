{
  "nbformat": 4,
  "nbformat_minor": 0,
  "metadata": {
    "colab": {
      "name": "confusionMatrix4.ipynb",
      "private_outputs": true,
      "provenance": [],
      "authorship_tag": "ABX9TyNjlqJfNPJ8hHJbGkBoGpQ6",
      "include_colab_link": true
    },
    "kernelspec": {
      "name": "python3",
      "display_name": "Python 3"
    }
  },
  "cells": [
    {
      "cell_type": "markdown",
      "metadata": {
        "id": "view-in-github",
        "colab_type": "text"
      },
      "source": [
        "<a href=\"https://colab.research.google.com/github/cagBRT/Confusion-matrix/blob/master/confusionMatrix4.ipynb\" target=\"_parent\"><img src=\"https://colab.research.google.com/assets/colab-badge.svg\" alt=\"Open In Colab\"/></a>"
      ]
    },
    {
      "cell_type": "markdown",
      "metadata": {
        "id": "i2Rzs7y-8xFM"
      },
      "source": [
        "# **Calculating the Confusion Matrix with the SkLearn Library**"
      ]
    },
    {
      "cell_type": "code",
      "metadata": {
        "id": "FK1Qk1WH9Fya"
      },
      "source": [
        "from sklearn.model_selection import train_test_split\n",
        "from sklearn.svm import SVC\n",
        "from sklearn.metrics import confusion_matrix\n",
        "#importing accuracy_score, precision_score, recall_score, f1_score\n",
        "from sklearn.metrics import accuracy_score, precision_score, recall_score, f1_score\n",
        "from sklearn.metrics import classification_report"
      ],
      "execution_count": null,
      "outputs": []
    },
    {
      "cell_type": "markdown",
      "metadata": {
        "id": "MKrsxpY785OR"
      },
      "source": [
        "**Get and prepare the data**"
      ]
    },
    {
      "cell_type": "code",
      "metadata": {
        "id": "4vYZc2T884iA"
      },
      "source": [
        "#importing a 2-class dataset from sklearn's toy dataset\n",
        "from sklearn.datasets import load_breast_cancer"
      ],
      "execution_count": null,
      "outputs": []
    },
    {
      "cell_type": "code",
      "metadata": {
        "id": "AMyJ2g8s9IYD"
      },
      "source": [
        "dataset = load_breast_cancer()\n",
        "X = dataset.data\n",
        "y = dataset.target\n",
        "X_train, X_test, y_train, y_test = train_test_split(X, y, random_state=0)"
      ],
      "execution_count": null,
      "outputs": []
    },
    {
      "cell_type": "code",
      "metadata": {
        "id": "Pi_-S4Em-mD8"
      },
      "source": [
        "print(\"Training set shape is \",X_train.shape)\n",
        "print(\"Test set shape is \",X_test.shape)"
      ],
      "execution_count": null,
      "outputs": []
    },
    {
      "cell_type": "markdown",
      "metadata": {
        "id": "Bq_6-Pth-UOA"
      },
      "source": [
        "**Create, train, and predict a Support Vector Model**"
      ]
    },
    {
      "cell_type": "code",
      "metadata": {
        "id": "OguKmAdj9LU7"
      },
      "source": [
        "svc = SVC(kernel='rbf', C=1).fit(X_train, y_train)\n",
        "y_pred = svc.predict(X_test)"
      ],
      "execution_count": null,
      "outputs": []
    },
    {
      "cell_type": "markdown",
      "metadata": {
        "id": "7huDNRcv9Vvg"
      },
      "source": [
        "**Determine the Confusion Matrix**"
      ]
    },
    {
      "cell_type": "code",
      "metadata": {
        "id": "PodmpdOo9VCn"
      },
      "source": [
        ""
      ],
      "execution_count": null,
      "outputs": []
    },
    {
      "cell_type": "markdown",
      "metadata": {
        "id": "haqvQOmT9jLJ"
      },
      "source": [
        "**Print the accuracy**"
      ]
    },
    {
      "cell_type": "code",
      "metadata": {
        "id": "GmikTAGT9nTg"
      },
      "source": [
        ""
      ],
      "execution_count": null,
      "outputs": []
    },
    {
      "cell_type": "markdown",
      "metadata": {
        "id": "ijHkMp8s9r68"
      },
      "source": [
        "**Micro Values**"
      ]
    },
    {
      "cell_type": "code",
      "metadata": {
        "id": "sgdwuaJd9sDJ"
      },
      "source": [
        ""
      ],
      "execution_count": null,
      "outputs": []
    },
    {
      "cell_type": "markdown",
      "metadata": {
        "id": "M48134ut904T"
      },
      "source": [
        "**Macro Values**"
      ]
    },
    {
      "cell_type": "code",
      "metadata": {
        "id": "yVXsZONM94cu"
      },
      "source": [
        ""
      ],
      "execution_count": null,
      "outputs": []
    },
    {
      "cell_type": "markdown",
      "metadata": {
        "id": "NmeIRtLG95wl"
      },
      "source": [
        "**Weighted Precision Values**"
      ]
    },
    {
      "cell_type": "code",
      "metadata": {
        "id": "X_TBF-uH9-9o"
      },
      "source": [
        ""
      ],
      "execution_count": null,
      "outputs": []
    },
    {
      "cell_type": "markdown",
      "metadata": {
        "id": "YZTpEL-G-FON"
      },
      "source": [
        "**The Classification Report**"
      ]
    },
    {
      "cell_type": "code",
      "metadata": {
        "id": "eTDISBIu8rWC"
      },
      "source": [
        ""
      ],
      "execution_count": null,
      "outputs": []
    }
  ]
}