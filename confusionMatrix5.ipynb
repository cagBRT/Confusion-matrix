{
  "nbformat": 4,
  "nbformat_minor": 0,
  "metadata": {
    "colab": {
      "name": "confusionMatrix5.ipynb",
      "provenance": [],
      "private_outputs": true,
      "authorship_tag": "ABX9TyMPlp4mTHZZGRZ7TC7YxMJX",
      "include_colab_link": true
    },
    "kernelspec": {
      "name": "python3",
      "display_name": "Python 3"
    }
  },
  "cells": [
    {
      "cell_type": "markdown",
      "metadata": {
        "id": "view-in-github",
        "colab_type": "text"
      },
      "source": [
        "<a href=\"https://colab.research.google.com/github/cagBRT/Confusion-matrix/blob/master/confusionMatrix5.ipynb\" target=\"_parent\"><img src=\"https://colab.research.google.com/assets/colab-badge.svg\" alt=\"Open In Colab\"/></a>"
      ]
    },
    {
      "cell_type": "markdown",
      "metadata": {
        "id": "gv-seWSSI579",
        "colab_type": "text"
      },
      "source": [
        "# **Calculating the Confusion Matrix using only Python and Numpy**"
      ]
    },
    {
      "cell_type": "code",
      "metadata": {
        "id": "BIkAIRjiHsAV",
        "colab_type": "code",
        "colab": {}
      },
      "source": [
        "import numpy as np\n",
        "\n",
        "cm = np.array(\n",
        "[[5825,    1,   49,   23,    7,   46,   30,   12,   21,   26],\n",
        " [   1, 6654,   48,   25,   10,   32,   19,   62,  111,   10],\n",
        " [   2,   20, 5561,   69,   13,   10,    2,   45,   18,    2],\n",
        " [   6,   26,   99, 5786,    5,  111,    1,   41,  110,   79],\n",
        " [   4,   10,   43,    6, 5533,   32,   11,   53,   34,   79],\n",
        " [   3,    1,    2,   56,    0, 4954,   23,    0,   12,    5],\n",
        " [  31,    4,   42,   22,   45,  103, 5806,    3,   34,    3],\n",
        " [   0,    4,   30,   29,    5,    6,    0, 5817,    2,   28],\n",
        " [  35,    6,   63,   58,    8,   59,   26,   13, 5394,   24],\n",
        " [  16,   16,   21,   57,  216,   68,    0,  219,  115, 5693]])"
      ],
      "execution_count": null,
      "outputs": []
    },
    {
      "cell_type": "code",
      "metadata": {
        "id": "HU6dt3dlIOl3",
        "colab_type": "code",
        "colab": {}
      },
      "source": [
        "def precision(label, confusion_matrix):\n",
        "    col = confusion_matrix[:, label]\n",
        "    return confusion_matrix[label, label] / col.sum()\n",
        "    \n",
        "def recall(label, confusion_matrix):\n",
        "    row = confusion_matrix[label, :]\n",
        "    return confusion_matrix[label, label] / row.sum()\n",
        "\n",
        "def precision_macro_average(confusion_matrix):\n",
        "    rows, columns = confusion_matrix.shape\n",
        "    sum_of_precisions = 0\n",
        "    for label in range(rows):\n",
        "        sum_of_precisions += precision(label, confusion_matrix)\n",
        "    return sum_of_precisions / rows\n",
        "\n",
        "def recall_macro_average(confusion_matrix):\n",
        "    rows, columns = confusion_matrix.shape\n",
        "    sum_of_recalls = 0\n",
        "    for label in range(columns):\n",
        "        sum_of_recalls += recall(label, confusion_matrix)\n",
        "    return sum_of_recalls / columns"
      ],
      "execution_count": null,
      "outputs": []
    },
    {
      "cell_type": "code",
      "metadata": {
        "id": "x5k1sltHISb5",
        "colab_type": "code",
        "colab": {}
      },
      "source": [
        "print(\"label precision recall\")\n",
        "for label in range(10):\n",
        "    print(f\"{label:5d} {precision(label, cm):9.3f} {recall(label, cm):6.3f}\")"
      ],
      "execution_count": null,
      "outputs": []
    },
    {
      "cell_type": "code",
      "metadata": {
        "id": "tQ5V-R4jIWW1",
        "colab_type": "code",
        "colab": {}
      },
      "source": [
        "print(\"precision total:\", precision_macro_average(cm))\n",
        "\n",
        "print(\"recall total:\", recall_macro_average(cm))"
      ],
      "execution_count": null,
      "outputs": []
    },
    {
      "cell_type": "code",
      "metadata": {
        "id": "bls_od8qIZ22",
        "colab_type": "code",
        "colab": {}
      },
      "source": [
        "def accuracy(confusion_matrix):\n",
        "    diagonal_sum = confusion_matrix.trace()\n",
        "    sum_of_all_elements = confusion_matrix.sum()\n",
        "    return diagonal_sum / sum_of_all_elements "
      ],
      "execution_count": null,
      "outputs": []
    },
    {
      "cell_type": "code",
      "metadata": {
        "id": "7kxwCRWZId7o",
        "colab_type": "code",
        "colab": {}
      },
      "source": [
        "accuracy(cm)"
      ],
      "execution_count": null,
      "outputs": []
    }
  ]
}