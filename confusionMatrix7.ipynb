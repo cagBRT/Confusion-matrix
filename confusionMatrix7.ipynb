{
  "nbformat": 4,
  "nbformat_minor": 0,
  "metadata": {
    "colab": {
      "name": "confusionMatrix7.ipynb",
      "private_outputs": true,
      "provenance": [],
      "authorship_tag": "ABX9TyNyJk4zTgtUJnIORxFKg0aV",
      "include_colab_link": true
    },
    "kernelspec": {
      "name": "python3",
      "display_name": "Python 3"
    },
    "language_info": {
      "name": "python"
    }
  },
  "cells": [
    {
      "cell_type": "markdown",
      "metadata": {
        "id": "view-in-github",
        "colab_type": "text"
      },
      "source": [
        "<a href=\"https://colab.research.google.com/github/cagBRT/Confusion-matrix/blob/master/confusionMatrix7.ipynb\" target=\"_parent\"><img src=\"https://colab.research.google.com/assets/colab-badge.svg\" alt=\"Open In Colab\"/></a>"
      ]
    },
    {
      "cell_type": "markdown",
      "metadata": {
        "id": "GIsXy4LxPOSy"
      },
      "source": [
        "# **Precision and Recall Curves**"
      ]
    },
    {
      "cell_type": "markdown",
      "metadata": {
        "id": "ASOkYIFaRecF"
      },
      "source": [
        "Reviewing both precision and recall is useful when there is imbalance in the observations between the two classes. <br>\n",
        "Meaning there are many examples of no event (class 0) and only a few examples of an event (class 1)"
      ]
    },
    {
      "cell_type": "markdown",
      "metadata": {
        "id": "kl2DF3UzQErP"
      },
      "source": [
        "The area under the precision-recall curve can be approximated by:<br>\n",
        ">calling the auc() function and passing it the recall (x) and precision (y) values calculated for each threshold."
      ]
    },
    {
      "cell_type": "markdown",
      "metadata": {
        "id": "U36CaNT6QqCB"
      },
      "source": [
        "**Precision** \n",
        "Precision is a ratio of the number of true positives divided by the sum of the true positives and false positives. <br>\n",
        "\n",
        "**It describes how good a model is at predicting the positive class**. <br>\n",
        "Precision is referred to as the positive predictive value."
      ]
    },
    {
      "cell_type": "markdown",
      "metadata": {
        "id": "bgJG4bjfQ5Dh"
      },
      "source": [
        "**Recall**<br>\n",
        "Recall is calculated as the ratio of the number of true positives divided by the sum of the true positives and the false negatives. <br>\n",
        "\n",
        "**Recall is the same as sensitivity.**<br>\n",
        "\n",
        "**Recall is how many of the true positives were recalled (found)**"
      ]
    },
    {
      "cell_type": "code",
      "metadata": {
        "id": "NZA3nNtQPZ99"
      },
      "source": [
        "from sklearn.datasets import make_classification\n",
        "from sklearn.linear_model import LogisticRegression\n",
        "from sklearn.model_selection import train_test_split\n",
        "from sklearn.metrics import precision_recall_curve\n",
        "from sklearn.metrics import f1_score\n",
        "from sklearn.metrics import auc\n",
        "from matplotlib import pyplot"
      ],
      "execution_count": null,
      "outputs": []
    },
    {
      "cell_type": "code",
      "metadata": {
        "id": "KNakRwK6PcVk"
      },
      "source": [
        "# generate 2 class dataset\n",
        "X, y = make_classification(n_samples=1000, n_classes=2, random_state=1,weights=[0.5,0.5])\n",
        "# split into train/test sets\n",
        "trainX, testX, trainy, testy = train_test_split(X, y, test_size=0.5, random_state=2)"
      ],
      "execution_count": null,
      "outputs": []
    },
    {
      "cell_type": "code",
      "metadata": {
        "id": "WytjT2a7Pf9D"
      },
      "source": [
        "# fit a model\n",
        "model = LogisticRegression(solver='lbfgs')\n",
        "model.fit(trainX, trainy)"
      ],
      "execution_count": null,
      "outputs": []
    },
    {
      "cell_type": "code",
      "metadata": {
        "id": "HLFv_dU_PGDh"
      },
      "source": [
        "# predict probabilities\n",
        "lr_probs = model.predict_proba(testX)\n",
        "# keep probabilities for the positive outcome only\n",
        "lr_probs = lr_probs[:, 1]\n",
        "# predict class values\n",
        "yhat = model.predict(testX)\n",
        "lr_precision, lr_recall, _ = precision_recall_curve(testy, lr_probs)\n",
        "lr_f1, lr_auc = f1_score(testy, yhat), auc(lr_recall, lr_precision)\n",
        "# summarize scores\n",
        "print('Logistic: f1=%.3f auc=%.3f' % (lr_f1, lr_auc))"
      ],
      "execution_count": null,
      "outputs": []
    },
    {
      "cell_type": "markdown",
      "metadata": {
        "id": "nkhZGh9ySKV-"
      },
      "source": [
        "A model with perfect skill is depicted as a point at (1,1). <br>\n",
        "\n",
        "A skilful model is represented by a curve that bows towards (1,1) above the flat line of no skill."
      ]
    },
    {
      "cell_type": "code",
      "metadata": {
        "id": "Gk6VI6kEPmdZ"
      },
      "source": [
        "# plot the precision-recall curves\n",
        "no_skill = len(testy[testy==1]) / len(testy)\n",
        "pyplot.plot([0, 1], [no_skill, no_skill], linestyle='--', label='No Skill')\n",
        "pyplot.plot(lr_recall, lr_precision, marker='.', label='Logistic')\n",
        "# axis labels\n",
        "pyplot.xlabel('Recall')\n",
        "pyplot.ylabel('Precision')\n",
        "# show the legend\n",
        "pyplot.legend()\n",
        "# show the plot\n",
        "pyplot.show()"
      ],
      "execution_count": null,
      "outputs": []
    },
    {
      "cell_type": "markdown",
      "metadata": {
        "id": "lqJlrtvUSXIi"
      },
      "source": [
        "# **When to Use ROC vs. Precision-Recall Curves**\n",
        "The use of ROC curves and precision-recall curves are as follows:\n",
        "\n",
        "**ROC curves should be used when there are roughly equal numbers of observations for each class.** ROC curves present an optimistic picture of the model on datasets with a class imbalance.\n",
        "\n",
        "**Precision-Recall curves should be used when there is a moderate to large class imbalance**"
      ]
    },
    {
      "cell_type": "markdown",
      "metadata": {
        "id": "rz5tO6oXTJoS"
      },
      "source": [
        "### **Assignment:**<br>\n",
        "\n",
        "Modify the two classes in our dataset; set the weights to different values and see what happens to the curve"
      ]
    }
  ]
}