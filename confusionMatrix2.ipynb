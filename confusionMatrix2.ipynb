{
  "nbformat": 4,
  "nbformat_minor": 0,
  "metadata": {
    "colab": {
      "name": "confusionMatrix2.ipynb",
      "provenance": [],
      "private_outputs": true,
      "authorship_tag": "ABX9TyN/pCzgb5gSfr6AZNmXaiNz",
      "include_colab_link": true
    },
    "kernelspec": {
      "name": "python3",
      "display_name": "Python 3"
    }
  },
  "cells": [
    {
      "cell_type": "markdown",
      "metadata": {
        "id": "view-in-github",
        "colab_type": "text"
      },
      "source": [
        "<a href=\"https://colab.research.google.com/github/cagBRT/Confusion-matrix/blob/master/confusionMatrix2.ipynb\" target=\"_parent\"><img src=\"https://colab.research.google.com/assets/colab-badge.svg\" alt=\"Open In Colab\"/></a>"
      ]
    },
    {
      "cell_type": "code",
      "metadata": {
        "id": "SX-axbT-uWtR",
        "colab_type": "code",
        "colab": {}
      },
      "source": [
        "# Clone the entire repo.\n",
        "!git clone -l -s https://github.com/cagBRT/Confusion-matrix.git cloned-repo\n",
        "%cd cloned-repo\n",
        "!ls"
      ],
      "execution_count": null,
      "outputs": []
    },
    {
      "cell_type": "code",
      "metadata": {
        "id": "j9iSAAVRuZUr",
        "colab_type": "code",
        "colab": {}
      },
      "source": [
        "from IPython.display import Image\n",
        "def page(num):\n",
        "    return Image(\"confusionMatrix\"+str(num)+ \".png\" , width=640)"
      ],
      "execution_count": null,
      "outputs": []
    },
    {
      "cell_type": "code",
      "metadata": {
        "id": "LIdd3kd5ueCi",
        "colab_type": "code",
        "colab": {}
      },
      "source": [
        "# Python script for confusion matrix creation.\n",
        "from sklearn.metrics import confusion_matrix\n",
        "from sklearn.metrics import accuracy_score\n",
        "from sklearn.metrics import classification_report"
      ],
      "execution_count": null,
      "outputs": []
    },
    {
      "cell_type": "markdown",
      "metadata": {
        "id": "DvlmLJOStpNI",
        "colab_type": "text"
      },
      "source": [
        "# **The Confusion Matrix for Multi-Class Classification**"
      ]
    },
    {
      "cell_type": "markdown",
      "metadata": {
        "id": "1xmFESlJt3oh",
        "colab_type": "text"
      },
      "source": [
        "For example: there is a dataset that has three class labels, \n",
        "<br>\n",
        ">Apple, Orange and Mango"
      ]
    },
    {
      "cell_type": "markdown",
      "metadata": {
        "id": "gKzZdz4vvN-U",
        "colab_type": "text"
      },
      "source": [
        "In multiclassification there are no positive or negative classes.<br>\n",
        "Find TP, TN, FP and FN for each individual class. "
      ]
    },
    {
      "cell_type": "code",
      "metadata": {
        "id": "pS7V95wPtR-t",
        "colab_type": "code",
        "colab": {}
      },
      "source": [
        "page(8)"
      ],
      "execution_count": null,
      "outputs": []
    },
    {
      "cell_type": "markdown",
      "metadata": {
        "id": "B_j4caFDvMjb",
        "colab_type": "text"
      },
      "source": [
        "**For the Apple class:**\n",
        ">TP = 7<br>\n",
        "TN = (2+3+2+1) = 8<br>\n",
        "FP = (8+9) = 17<br>\n",
        "FN = (1+3) = 4<br>\n",
        "<br><br>\n",
        "The total of these stats should equal the total number of predictions made. "
      ]
    },
    {
      "cell_type": "markdown",
      "metadata": {
        "id": "KJipbd6Lw2Gq",
        "colab_type": "text"
      },
      "source": [
        "**Quiz 1:**<br>\n",
        "Calculate TP, TN,FP,FN for the Orange class"
      ]
    },
    {
      "cell_type": "code",
      "metadata": {
        "id": "Ld57cO-nxAFb",
        "colab_type": "code",
        "colab": {},
        "cellView": "both"
      },
      "source": [
        "#@title Calcualte the stats for the Orange class, separate each answer with a space\n",
        "import re\n",
        "stats = \"\" #@param {type:\"string\"}\n",
        "\n",
        "x = re.search(\"2\\s8\\s4\\s10\", stats)\n",
        "x1= re.search(\"2\\s*,\\s*8\\s*,\\s*4\\s*,\\s*10\", stats)\n",
        "if x or x1:\n",
        "  print(\"Correct!\")\n",
        "else:\n",
        "  print(\"Try again\")"
      ],
      "execution_count": null,
      "outputs": []
    },
    {
      "cell_type": "markdown",
      "metadata": {
        "id": "76mAacy1GrjH",
        "colab_type": "text"
      },
      "source": [
        "**Quiz 2:**<br>\n",
        "Calculate TP, TN,FP,FN for the Mango class"
      ]
    },
    {
      "cell_type": "code",
      "metadata": {
        "id": "4_5J2cmWGrtn",
        "colab_type": "code",
        "colab": {},
        "cellView": "form"
      },
      "source": [
        "#@title Calcualte the stats for the Mango class, separate each answer with a space\n",
        "import re\n",
        "stats = \"\" #@param {type:\"string\"}\n",
        "\n",
        "x = re.search(\"1\\s18\\s5\\s12\", stats)\n",
        "x1= re.search(\"1\\s*,\\s*18\\s*,\\s*4\\s*,\\s*12\", stats)\n",
        "if x or x1:\n",
        "  print(\"Correct!\")\n",
        "else:\n",
        "  print(\"Try again\")"
      ],
      "execution_count": null,
      "outputs": []
    }
  ]
}