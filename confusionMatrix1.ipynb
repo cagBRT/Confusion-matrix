{
  "nbformat": 4,
  "nbformat_minor": 0,
  "metadata": {
    "colab": {
      "name": "confusionMatrix1.ipynb",
      "provenance": [],
      "private_outputs": true,
      "authorship_tag": "ABX9TyPAdBQLocC2e7m4omzkyhHK",
      "include_colab_link": true
    },
    "kernelspec": {
      "name": "python3",
      "display_name": "Python 3"
    }
  },
  "cells": [
    {
      "cell_type": "markdown",
      "metadata": {
        "id": "view-in-github",
        "colab_type": "text"
      },
      "source": [
        "<a href=\"https://colab.research.google.com/github/cagBRT/Confusion-matrix/blob/master/confusionMatrix1.ipynb\" target=\"_parent\"><img src=\"https://colab.research.google.com/assets/colab-badge.svg\" alt=\"Open In Colab\"/></a>"
      ]
    },
    {
      "cell_type": "code",
      "metadata": {
        "id": "97MJzGRmDGl0",
        "colab_type": "code",
        "colab": {}
      },
      "source": [
        "# Clone the entire repo.\n",
        "!git clone -l -s https://github.com/cagBRT/Confusion-matrix.git cloned-repo\n",
        "%cd cloned-repo\n",
        "!ls\n"
      ],
      "execution_count": null,
      "outputs": []
    },
    {
      "cell_type": "code",
      "metadata": {
        "id": "IAh8c8TWDL3s",
        "colab_type": "code",
        "colab": {}
      },
      "source": [
        "from IPython.display import Image\n",
        "def page(num):\n",
        "    return Image(\"confusionMatrix\"+str(num)+ \".png\" , width=640)"
      ],
      "execution_count": null,
      "outputs": []
    },
    {
      "cell_type": "markdown",
      "metadata": {
        "id": "r1PE4Kuw-5wS",
        "colab_type": "text"
      },
      "source": [
        "**Example 1**"
      ]
    },
    {
      "cell_type": "code",
      "metadata": {
        "id": "MnEk2aY39c4E",
        "colab_type": "code",
        "colab": {}
      },
      "source": [
        "from sklearn.metrics import confusion_matrix\n",
        "y_true = [2, 0, 2, 2, 0, 1] #ground truth\n",
        "y_pred = [0, 0, 2, 2, 0, 2] #prediction"
      ],
      "execution_count": null,
      "outputs": []
    },
    {
      "cell_type": "markdown",
      "metadata": {
        "id": "hD9fr4KC-99U",
        "colab_type": "text"
      },
      "source": [
        "**The confusion matrix**<br>\n",
        "Cndarray of shape (n_classes, n_classes)<br>\n",
        "Confusion matrix whose i-th row and j-th column entry indicates the number of <br>samples with true label being i-th class and prediced label being j-th class."
      ]
    },
    {
      "cell_type": "code",
      "metadata": {
        "id": "lC2A_6yj-4lZ",
        "colab_type": "code",
        "colab": {}
      },
      "source": [
        "confusion_matrix(y_true, y_pred)"
      ],
      "execution_count": null,
      "outputs": []
    },
    {
      "cell_type": "code",
      "metadata": {
        "id": "NLYcI18JDbSx",
        "colab_type": "code",
        "colab": {}
      },
      "source": [
        "page(1)"
      ],
      "execution_count": null,
      "outputs": []
    },
    {
      "cell_type": "markdown",
      "metadata": {
        "id": "XOyyezi9F6rb",
        "colab_type": "text"
      },
      "source": [
        "The total of the values in the confusion matrix equals the total number of predictions made."
      ]
    },
    {
      "cell_type": "markdown",
      "metadata": {
        "id": "ohLU8qhsDmg0",
        "colab_type": "text"
      },
      "source": [
        "**Quiz 1**<br>\n",
        "confusion_matrix(y_true, y_pred, labels=[\"ant\", \"bird\", \"cat\"])<br>\n",
        ">[[2,0,1]<br>\n",
        "[0,0,1]<br>\n",
        "[1,0,3]]<br>"
      ]
    },
    {
      "cell_type": "code",
      "metadata": {
        "id": "URyfI4btEHfJ",
        "colab_type": "code",
        "cellView": "form",
        "colab": {}
      },
      "source": [
        "#@title How many times was a cat mislabeled as an ant or bird?\n",
        "ant_wrong =  5#@param {type:\"integer\"}\n",
        "if(ant_wrong == 1):\n",
        "  print(\"Correct!\")\n",
        "else:\n",
        "  print(\"Try again\")"
      ],
      "execution_count": null,
      "outputs": []
    },
    {
      "cell_type": "code",
      "metadata": {
        "id": "-1aeYxzOFQ5w",
        "colab_type": "code",
        "cellView": "form",
        "colab": {}
      },
      "source": [
        "#@title How many times was an ant mislabeled as an cat or bird?\n",
        "cat_wrong =  5#@param {type:\"integer\"}\n",
        "if(cat_wrong == 1):\n",
        "  print(\"Correct!\")\n",
        "else:\n",
        "  print(\"Try again\")"
      ],
      "execution_count": null,
      "outputs": []
    },
    {
      "cell_type": "code",
      "metadata": {
        "id": "0USUzkJPFnmb",
        "colab_type": "code",
        "cellView": "form",
        "colab": {}
      },
      "source": [
        "#@title How many times was a bird mislabeled as an ant or cat?\n",
        "bird_wrong =  5#@param {type:\"integer\"}\n",
        "if(bird_wrong == 1):\n",
        "  print(\"Correct!\")\n",
        "else:\n",
        "  print(\"Try again\")"
      ],
      "execution_count": null,
      "outputs": []
    },
    {
      "cell_type": "code",
      "metadata": {
        "id": "JUKpvpncDod5",
        "colab_type": "code",
        "cellView": "form",
        "colab": {}
      },
      "source": [
        "#@title \n",
        "y_true = [\"cat\", \"ant\", \"cat\", \"cat\", \"ant\", \"bird\",\"cat\",\"ant\"]\n",
        "y_pred = [\"ant\", \"ant\", \"cat\", \"cat\", \"ant\", \"cat\", \"cat\",\"cat\"]\n",
        "confusion_matrix(y_true, y_pred, labels=[\"ant\", \"bird\", \"cat\"])"
      ],
      "execution_count": null,
      "outputs": []
    },
    {
      "cell_type": "code",
      "metadata": {
        "id": "JZ_UGFxMEJRu",
        "colab_type": "code",
        "colab": {}
      },
      "source": [
        "page(2)"
      ],
      "execution_count": null,
      "outputs": []
    },
    {
      "cell_type": "markdown",
      "metadata": {
        "id": "z3GsNhTTIK1W",
        "colab_type": "text"
      },
      "source": [
        "**Quiz 2**<br>\n",
        "The model is predicting whether the image is of a cat or not. \n",
        "\n",
        "Actual values =    [‘dog’, ‘cat’, ‘dog’, ‘cat’, ‘dog’, ‘dog’, ‘cat’, ‘dog’, ‘cat’, ‘dog’]<br>\n",
        "Predicted values = [‘dog’, ‘dog’, ‘dog’, ‘cat’, ‘dog’, ‘dog’, ‘cat’, ‘cat’, ‘cat’, ‘cat’]<br>\n",
        "<br>\n",
        "We describe predicted values as Positive/Negative and actual values as True/False.\n"
      ]
    },
    {
      "cell_type": "code",
      "metadata": {
        "id": "HEsWecbPEuMG",
        "colab_type": "code",
        "colab": {}
      },
      "source": [
        "#@title How many True Positives?\n",
        "tp = 0 #@param {type:\"integer\"}\n",
        "if tp==3:\n",
        "  print(\"Correct!\")\n",
        "else:\n",
        "  print(\"Try again\")"
      ],
      "execution_count": null,
      "outputs": []
    },
    {
      "cell_type": "code",
      "metadata": {
        "id": "79FcRflAFL7b",
        "colab_type": "code",
        "colab": {}
      },
      "source": [
        "#@title How many True Negatives?\n",
        "tp = 0 #@param {type:\"integer\"}\n",
        "if tp==4:\n",
        "  print(\"Correct!\")\n",
        "else:\n",
        "  print(\"Try again\")"
      ],
      "execution_count": null,
      "outputs": []
    },
    {
      "cell_type": "code",
      "metadata": {
        "id": "5_zw7_6CFlyT",
        "colab_type": "code",
        "colab": {}
      },
      "source": [
        "#@title How many False Positives?\n",
        "tp = 0 #@param {type:\"integer\"}\n",
        "if tp==2:\n",
        "  print(\"Correct!\")\n",
        "else:\n",
        "  print(\"Try again\")"
      ],
      "execution_count": null,
      "outputs": []
    },
    {
      "cell_type": "code",
      "metadata": {
        "id": "A3WuZyQuFqmA",
        "colab_type": "code",
        "colab": {}
      },
      "source": [
        "#@title How many False Negatives?\n",
        "tp = 0 #@param {type:\"integer\"}\n",
        "if tp==1:\n",
        "  print(\"Correct!\")\n",
        "else:\n",
        "  print(\"Try again\")"
      ],
      "execution_count": null,
      "outputs": []
    }
  ]
}